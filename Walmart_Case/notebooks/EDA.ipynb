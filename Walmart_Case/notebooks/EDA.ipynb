{
 "cells": [
  {
   "cell_type": "code",
   "execution_count": 3,
   "metadata": {},
   "outputs": [
    {
     "ename": "FileNotFoundError",
     "evalue": "[WinError 3] O sistema não pode encontrar o caminho especificado: '../data/'",
     "output_type": "error",
     "traceback": [
      "\u001b[1;31m---------------------------------------------------------------------------\u001b[0m",
      "\u001b[1;31mFileNotFoundError\u001b[0m                         Traceback (most recent call last)",
      "Cell \u001b[1;32mIn[3], line 10\u001b[0m\n\u001b[0;32m      7\u001b[0m data_path \u001b[38;5;241m=\u001b[39m \u001b[38;5;124m\"\u001b[39m\u001b[38;5;124m../data/\u001b[39m\u001b[38;5;124m\"\u001b[39m\n\u001b[0;32m      9\u001b[0m \u001b[38;5;66;03m# Listar os arquivos CSV na pasta\u001b[39;00m\n\u001b[1;32m---> 10\u001b[0m csv_files \u001b[38;5;241m=\u001b[39m [f \u001b[38;5;28;01mfor\u001b[39;00m f \u001b[38;5;129;01min\u001b[39;00m os\u001b[38;5;241m.\u001b[39mlistdir(data_path) \u001b[38;5;28;01mif\u001b[39;00m f\u001b[38;5;241m.\u001b[39mendswith(\u001b[38;5;124m'\u001b[39m\u001b[38;5;124m.csv\u001b[39m\u001b[38;5;124m'\u001b[39m)]\n\u001b[0;32m     12\u001b[0m \u001b[38;5;66;03m# Loop para carregar e analisar cada arquivo\u001b[39;00m\n\u001b[0;32m     13\u001b[0m \u001b[38;5;28;01mfor\u001b[39;00m file \u001b[38;5;129;01min\u001b[39;00m csv_files:\n",
      "\u001b[1;31mFileNotFoundError\u001b[0m: [WinError 3] O sistema não pode encontrar o caminho especificado: '../data/'"
     ]
    }
   ],
   "source": [
    "import os\n",
    "import pandas as pd\n",
    "import matplotlib.pyplot as plt\n",
    "import seaborn as sns\n",
    "\n",
    "# Definir o caminho da pasta onde estão os arquivos\n",
    "data_path = \"data/\"\n",
    "\n",
    "# Listar os arquivos CSV na pasta\n",
    "csv_files = [f for f in os.listdir(data_path) if f.endswith('.csv')]\n",
    "\n",
    "# Loop para carregar e analisar cada arquivo\n",
    "for file in csv_files:\n",
    "    file_path = os.path.join(data_path, file)\n",
    "    print(f\"\\n🔍 Analisando o arquivo: {file}\\n\")\n",
    "    \n",
    "    # Carregar o dataset\n",
    "    df = pd.read_csv(file_path)\n",
    "\n",
    "    # Exibir as 5 primeiras linhas\n",
    "    print(\"📌 Primeiras 5 linhas do dataset:\")\n",
    "    display(df.head())\n",
    "\n",
    "    # Informações gerais sobre o dataset\n",
    "    print(\"\\n📊 Informações gerais do dataset:\")\n",
    "    print(df.info())\n",
    "\n",
    "    # Estatísticas descritivas das colunas numéricas\n",
    "    print(\"\\n📈 Estatísticas descritivas:\")\n",
    "    display(df.describe())\n",
    "\n",
    "    # Verificar valores ausentes\n",
    "    print(\"\\n❗ Valores ausentes por coluna:\")\n",
    "    print(df.isnull().sum())\n",
    "\n",
    "    # Exibir a distribuição das variáveis numéricas\n",
    "    # Selecting only numerical features for histogram\n",
    "    numeric_df = df.select_dtypes(include=['number', 'datetime']) \n",
    "    \n",
    "    # Check if there are any numerical columns to plot\n",
    "    if not numeric_df.empty:\n",
    "        numeric_df.hist(figsize=(12, 8), bins=30, edgecolor=\"black\")\n",
    "        plt.suptitle(f'Distribuição das variáveis numéricas - {file}')\n",
    "        plt.show()\n",
    "    else:\n",
    "        print(f\"⚠️ Arquivo {file} não contém colunas numéricas ou de data para gerar histograma.\\n\")\n",
    "\n",
    "    # Exibir o mapa de calor da correlação\n",
    "    plt.figure(figsize=(10, 6))\n",
    "    \n",
    "    # Selecting only numerical features for correlation analysis\n",
    "    numeric_df = df.select_dtypes(include=['number'])  \n",
    "    \n",
    "    # Check if there are any numerical columns to plot\n",
    "    if not numeric_df.empty:    \n",
    "        sns.heatmap(numeric_df.corr(), annot=True, cmap=\"coolwarm\", fmt=\".2f\")\n",
    "        plt.title(f'Matriz de Correlação - {file}')\n",
    "        plt.show()\n",
    "    else:\n",
    "        print(f\"⚠️ Arquivo {file} não contém colunas numéricas para gerar mapa de calor.\\n\")\n",
    "\n",
    "    print(\"\\n\" + \"-\"*50 + \"\\n\")"
   ]
  }
 ],
 "metadata": {
  "kernelspec": {
   "display_name": "base",
   "language": "python",
   "name": "python3"
  },
  "language_info": {
   "codemirror_mode": {
    "name": "ipython",
    "version": 3
   },
   "file_extension": ".py",
   "mimetype": "text/x-python",
   "name": "python",
   "nbconvert_exporter": "python",
   "pygments_lexer": "ipython3",
   "version": "3.12.7"
  }
 },
 "nbformat": 4,
 "nbformat_minor": 2
}
