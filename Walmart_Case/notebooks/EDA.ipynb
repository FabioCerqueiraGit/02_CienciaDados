{
 "cells": [
  {
   "cell_type": "code",
   "execution_count": null,
   "metadata": {},
   "outputs": [],
   "source": [
    "import os\n",
    "import pandas as pd\n",
    "import matplotlib.pyplot as plt\n",
    "import seaborn as sns\n",
    "\n",
    "# Definir o caminho da pasta onde estão os arquivos\n",
    "data_path = \"data/\"\n",
    "\n",
    "# Listar os arquivos CSV na pasta\n",
    "csv_files = [f for f in os.listdir(data_path) if f.endswith('.csv')]\n",
    "\n",
    "# Loop para carregar e analisar cada arquivo\n",
    "for file in csv_files:\n",
    "    file_path = os.path.join(data_path, file)\n",
    "    print(f\"\\n🔍 Analisando o arquivo: {file}\\n\")\n",
    "    \n",
    "    # Carregar o dataset\n",
    "    df = pd.read_csv(file_path)\n",
    "\n",
    "    # Exibir as 5 primeiras linhas\n",
    "    print(\"📌 Primeiras 5 linhas do dataset:\")\n",
    "    display(df.head())\n",
    "\n",
    "    # Informações gerais sobre o dataset\n",
    "    print(\"\\n📊 Informações gerais do dataset:\")\n",
    "    print(df.info())\n",
    "\n",
    "    # Estatísticas descritivas das colunas numéricas\n",
    "    print(\"\\n📈 Estatísticas descritivas:\")\n",
    "    display(df.describe())\n",
    "\n",
    "    # Verificar valores ausentes\n",
    "    print(\"\\n❗ Valores ausentes por coluna:\")\n",
    "    print(df.isnull().sum())\n",
    "\n",
    "    # Exibir a distribuição das variáveis numéricas\n",
    "    df.hist(figsize=(12, 8), bins=30, edgecolor=\"black\")\n",
    "    plt.suptitle(f'Distribuição das variáveis numéricas - {file}')\n",
    "    plt.show()\n",
    "\n",
    "    # Exibir o mapa de calor da correlação\n",
    "    plt.figure(figsize=(10, 6))\n",
    "    sns.heatmap(df.corr(), annot=True, cmap=\"coolwarm\", fmt=\".2f\")\n",
    "    plt.title(f'Matriz de Correlação - {file}')\n",
    "    plt.show()\n",
    "\n",
    "    print(\"\\n\" + \"-\"*50 + \"\\n\")\n"
   ]
  }
 ],
 "metadata": {
  "kernelspec": {
   "display_name": "base",
   "language": "python",
   "name": "python3"
  },
  "language_info": {
   "name": "python",
   "version": "3.12.7"
  }
 },
 "nbformat": 4,
 "nbformat_minor": 2
}
